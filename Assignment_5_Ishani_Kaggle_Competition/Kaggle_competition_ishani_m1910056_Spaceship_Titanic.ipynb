{
 "cells": [
  {
   "cell_type": "code",
   "execution_count": 1,
   "metadata": {},
   "outputs": [],
   "source": [
    "import pandas as pd\n",
    "import seaborn as sns\n",
    "import numpy as np\n",
    "import matplotlib.pyplot as plt\n",
    "import statistics as st"
   ]
  },
  {
   "cell_type": "code",
   "execution_count": 2,
   "metadata": {},
   "outputs": [],
   "source": [
    "train = pd.read_csv('train.csv')\n",
    "test = pd.read_csv('test.csv')"
   ]
  },
  {
   "cell_type": "code",
   "execution_count": 3,
   "metadata": {},
   "outputs": [
    {
     "data": {
      "text/html": [
       "<div>\n",
       "<style scoped>\n",
       "    .dataframe tbody tr th:only-of-type {\n",
       "        vertical-align: middle;\n",
       "    }\n",
       "\n",
       "    .dataframe tbody tr th {\n",
       "        vertical-align: top;\n",
       "    }\n",
       "\n",
       "    .dataframe thead th {\n",
       "        text-align: right;\n",
       "    }\n",
       "</style>\n",
       "<table border=\"1\" class=\"dataframe\">\n",
       "  <thead>\n",
       "    <tr style=\"text-align: right;\">\n",
       "      <th></th>\n",
       "      <th>PassengerId</th>\n",
       "      <th>HomePlanet</th>\n",
       "      <th>CryoSleep</th>\n",
       "      <th>Cabin</th>\n",
       "      <th>Destination</th>\n",
       "      <th>Age</th>\n",
       "      <th>VIP</th>\n",
       "      <th>RoomService</th>\n",
       "      <th>FoodCourt</th>\n",
       "      <th>ShoppingMall</th>\n",
       "      <th>Spa</th>\n",
       "      <th>VRDeck</th>\n",
       "      <th>Name</th>\n",
       "    </tr>\n",
       "  </thead>\n",
       "  <tbody>\n",
       "    <tr>\n",
       "      <th>0</th>\n",
       "      <td>0013_01</td>\n",
       "      <td>Earth</td>\n",
       "      <td>True</td>\n",
       "      <td>G/3/S</td>\n",
       "      <td>TRAPPIST-1e</td>\n",
       "      <td>27.0</td>\n",
       "      <td>False</td>\n",
       "      <td>0.0</td>\n",
       "      <td>0.0</td>\n",
       "      <td>0.0</td>\n",
       "      <td>0.0</td>\n",
       "      <td>0.0</td>\n",
       "      <td>Nelly Carsoning</td>\n",
       "    </tr>\n",
       "    <tr>\n",
       "      <th>1</th>\n",
       "      <td>0018_01</td>\n",
       "      <td>Earth</td>\n",
       "      <td>False</td>\n",
       "      <td>F/4/S</td>\n",
       "      <td>TRAPPIST-1e</td>\n",
       "      <td>19.0</td>\n",
       "      <td>False</td>\n",
       "      <td>0.0</td>\n",
       "      <td>9.0</td>\n",
       "      <td>0.0</td>\n",
       "      <td>2823.0</td>\n",
       "      <td>0.0</td>\n",
       "      <td>Lerome Peckers</td>\n",
       "    </tr>\n",
       "    <tr>\n",
       "      <th>2</th>\n",
       "      <td>0019_01</td>\n",
       "      <td>Europa</td>\n",
       "      <td>True</td>\n",
       "      <td>C/0/S</td>\n",
       "      <td>55 Cancri e</td>\n",
       "      <td>31.0</td>\n",
       "      <td>False</td>\n",
       "      <td>0.0</td>\n",
       "      <td>0.0</td>\n",
       "      <td>0.0</td>\n",
       "      <td>0.0</td>\n",
       "      <td>0.0</td>\n",
       "      <td>Sabih Unhearfus</td>\n",
       "    </tr>\n",
       "    <tr>\n",
       "      <th>3</th>\n",
       "      <td>0021_01</td>\n",
       "      <td>Europa</td>\n",
       "      <td>False</td>\n",
       "      <td>C/1/S</td>\n",
       "      <td>TRAPPIST-1e</td>\n",
       "      <td>38.0</td>\n",
       "      <td>False</td>\n",
       "      <td>0.0</td>\n",
       "      <td>6652.0</td>\n",
       "      <td>0.0</td>\n",
       "      <td>181.0</td>\n",
       "      <td>585.0</td>\n",
       "      <td>Meratz Caltilter</td>\n",
       "    </tr>\n",
       "    <tr>\n",
       "      <th>4</th>\n",
       "      <td>0023_01</td>\n",
       "      <td>Earth</td>\n",
       "      <td>False</td>\n",
       "      <td>F/5/S</td>\n",
       "      <td>TRAPPIST-1e</td>\n",
       "      <td>20.0</td>\n",
       "      <td>False</td>\n",
       "      <td>10.0</td>\n",
       "      <td>0.0</td>\n",
       "      <td>635.0</td>\n",
       "      <td>0.0</td>\n",
       "      <td>0.0</td>\n",
       "      <td>Brence Harperez</td>\n",
       "    </tr>\n",
       "  </tbody>\n",
       "</table>\n",
       "</div>"
      ],
      "text/plain": [
       "  PassengerId HomePlanet CryoSleep  Cabin  Destination   Age    VIP  \\\n",
       "0     0013_01      Earth      True  G/3/S  TRAPPIST-1e  27.0  False   \n",
       "1     0018_01      Earth     False  F/4/S  TRAPPIST-1e  19.0  False   \n",
       "2     0019_01     Europa      True  C/0/S  55 Cancri e  31.0  False   \n",
       "3     0021_01     Europa     False  C/1/S  TRAPPIST-1e  38.0  False   \n",
       "4     0023_01      Earth     False  F/5/S  TRAPPIST-1e  20.0  False   \n",
       "\n",
       "   RoomService  FoodCourt  ShoppingMall     Spa  VRDeck              Name  \n",
       "0          0.0        0.0           0.0     0.0     0.0   Nelly Carsoning  \n",
       "1          0.0        9.0           0.0  2823.0     0.0    Lerome Peckers  \n",
       "2          0.0        0.0           0.0     0.0     0.0   Sabih Unhearfus  \n",
       "3          0.0     6652.0           0.0   181.0   585.0  Meratz Caltilter  \n",
       "4         10.0        0.0         635.0     0.0     0.0   Brence Harperez  "
      ]
     },
     "execution_count": 3,
     "metadata": {},
     "output_type": "execute_result"
    }
   ],
   "source": [
    "test.head()"
   ]
  },
  {
   "cell_type": "code",
   "execution_count": 4,
   "metadata": {},
   "outputs": [
    {
     "data": {
      "text/plain": [
       "Index(['PassengerId', 'HomePlanet', 'CryoSleep', 'Cabin', 'Destination', 'Age',\n",
       "       'VIP', 'RoomService', 'FoodCourt', 'ShoppingMall', 'Spa', 'VRDeck',\n",
       "       'Name'],\n",
       "      dtype='object')"
      ]
     },
     "execution_count": 4,
     "metadata": {},
     "output_type": "execute_result"
    }
   ],
   "source": [
    "test.columns"
   ]
  },
  {
   "cell_type": "code",
   "execution_count": 5,
   "metadata": {},
   "outputs": [
    {
     "data": {
      "text/html": [
       "<div>\n",
       "<style scoped>\n",
       "    .dataframe tbody tr th:only-of-type {\n",
       "        vertical-align: middle;\n",
       "    }\n",
       "\n",
       "    .dataframe tbody tr th {\n",
       "        vertical-align: top;\n",
       "    }\n",
       "\n",
       "    .dataframe thead th {\n",
       "        text-align: right;\n",
       "    }\n",
       "</style>\n",
       "<table border=\"1\" class=\"dataframe\">\n",
       "  <thead>\n",
       "    <tr style=\"text-align: right;\">\n",
       "      <th></th>\n",
       "      <th>Age</th>\n",
       "      <th>RoomService</th>\n",
       "      <th>FoodCourt</th>\n",
       "      <th>ShoppingMall</th>\n",
       "      <th>Spa</th>\n",
       "      <th>VRDeck</th>\n",
       "    </tr>\n",
       "  </thead>\n",
       "  <tbody>\n",
       "    <tr>\n",
       "      <th>count</th>\n",
       "      <td>8514.000000</td>\n",
       "      <td>8512.000000</td>\n",
       "      <td>8510.000000</td>\n",
       "      <td>8485.000000</td>\n",
       "      <td>8510.000000</td>\n",
       "      <td>8505.000000</td>\n",
       "    </tr>\n",
       "    <tr>\n",
       "      <th>mean</th>\n",
       "      <td>28.827930</td>\n",
       "      <td>224.687617</td>\n",
       "      <td>458.077203</td>\n",
       "      <td>173.729169</td>\n",
       "      <td>311.138778</td>\n",
       "      <td>304.854791</td>\n",
       "    </tr>\n",
       "    <tr>\n",
       "      <th>std</th>\n",
       "      <td>14.489021</td>\n",
       "      <td>666.717663</td>\n",
       "      <td>1611.489240</td>\n",
       "      <td>604.696458</td>\n",
       "      <td>1136.705535</td>\n",
       "      <td>1145.717189</td>\n",
       "    </tr>\n",
       "    <tr>\n",
       "      <th>min</th>\n",
       "      <td>0.000000</td>\n",
       "      <td>0.000000</td>\n",
       "      <td>0.000000</td>\n",
       "      <td>0.000000</td>\n",
       "      <td>0.000000</td>\n",
       "      <td>0.000000</td>\n",
       "    </tr>\n",
       "    <tr>\n",
       "      <th>25%</th>\n",
       "      <td>19.000000</td>\n",
       "      <td>0.000000</td>\n",
       "      <td>0.000000</td>\n",
       "      <td>0.000000</td>\n",
       "      <td>0.000000</td>\n",
       "      <td>0.000000</td>\n",
       "    </tr>\n",
       "    <tr>\n",
       "      <th>50%</th>\n",
       "      <td>27.000000</td>\n",
       "      <td>0.000000</td>\n",
       "      <td>0.000000</td>\n",
       "      <td>0.000000</td>\n",
       "      <td>0.000000</td>\n",
       "      <td>0.000000</td>\n",
       "    </tr>\n",
       "    <tr>\n",
       "      <th>75%</th>\n",
       "      <td>38.000000</td>\n",
       "      <td>47.000000</td>\n",
       "      <td>76.000000</td>\n",
       "      <td>27.000000</td>\n",
       "      <td>59.000000</td>\n",
       "      <td>46.000000</td>\n",
       "    </tr>\n",
       "    <tr>\n",
       "      <th>max</th>\n",
       "      <td>79.000000</td>\n",
       "      <td>14327.000000</td>\n",
       "      <td>29813.000000</td>\n",
       "      <td>23492.000000</td>\n",
       "      <td>22408.000000</td>\n",
       "      <td>24133.000000</td>\n",
       "    </tr>\n",
       "  </tbody>\n",
       "</table>\n",
       "</div>"
      ],
      "text/plain": [
       "               Age   RoomService     FoodCourt  ShoppingMall           Spa  \\\n",
       "count  8514.000000   8512.000000   8510.000000   8485.000000   8510.000000   \n",
       "mean     28.827930    224.687617    458.077203    173.729169    311.138778   \n",
       "std      14.489021    666.717663   1611.489240    604.696458   1136.705535   \n",
       "min       0.000000      0.000000      0.000000      0.000000      0.000000   \n",
       "25%      19.000000      0.000000      0.000000      0.000000      0.000000   \n",
       "50%      27.000000      0.000000      0.000000      0.000000      0.000000   \n",
       "75%      38.000000     47.000000     76.000000     27.000000     59.000000   \n",
       "max      79.000000  14327.000000  29813.000000  23492.000000  22408.000000   \n",
       "\n",
       "             VRDeck  \n",
       "count   8505.000000  \n",
       "mean     304.854791  \n",
       "std     1145.717189  \n",
       "min        0.000000  \n",
       "25%        0.000000  \n",
       "50%        0.000000  \n",
       "75%       46.000000  \n",
       "max    24133.000000  "
      ]
     },
     "execution_count": 5,
     "metadata": {},
     "output_type": "execute_result"
    }
   ],
   "source": [
    "train.describe()"
   ]
  },
  {
   "cell_type": "code",
   "execution_count": 6,
   "metadata": {},
   "outputs": [
    {
     "data": {
      "text/plain": [
       "Index(['PassengerId', 'HomePlanet', 'CryoSleep', 'Cabin', 'Destination', 'Age',\n",
       "       'VIP', 'RoomService', 'FoodCourt', 'ShoppingMall', 'Spa', 'VRDeck',\n",
       "       'Name', 'Transported'],\n",
       "      dtype='object')"
      ]
     },
     "execution_count": 6,
     "metadata": {},
     "output_type": "execute_result"
    }
   ],
   "source": [
    "train.columns"
   ]
  },
  {
   "cell_type": "code",
   "execution_count": 7,
   "metadata": {},
   "outputs": [
    {
     "data": {
      "text/plain": [
       "Earth     4602\n",
       "Europa    2131\n",
       "Mars      1759\n",
       "Name: HomePlanet, dtype: int64"
      ]
     },
     "execution_count": 7,
     "metadata": {},
     "output_type": "execute_result"
    }
   ],
   "source": [
    "train.HomePlanet.value_counts()"
   ]
  },
  {
   "cell_type": "code",
   "execution_count": 8,
   "metadata": {},
   "outputs": [
    {
     "data": {
      "text/plain": [
       "PassengerId       0\n",
       "HomePlanet      201\n",
       "CryoSleep       217\n",
       "Cabin           199\n",
       "Destination     182\n",
       "Age             179\n",
       "VIP             203\n",
       "RoomService     181\n",
       "FoodCourt       183\n",
       "ShoppingMall    208\n",
       "Spa             183\n",
       "VRDeck          188\n",
       "Name            200\n",
       "Transported       0\n",
       "dtype: int64"
      ]
     },
     "execution_count": 8,
     "metadata": {},
     "output_type": "execute_result"
    }
   ],
   "source": [
    "train.isna().sum()"
   ]
  },
  {
   "cell_type": "code",
   "execution_count": 9,
   "metadata": {},
   "outputs": [
    {
     "data": {
      "text/plain": [
       "PassengerId       0\n",
       "HomePlanet       87\n",
       "CryoSleep        93\n",
       "Cabin           100\n",
       "Destination      92\n",
       "Age              91\n",
       "VIP              93\n",
       "RoomService      82\n",
       "FoodCourt       106\n",
       "ShoppingMall     98\n",
       "Spa             101\n",
       "VRDeck           80\n",
       "Name             94\n",
       "dtype: int64"
      ]
     },
     "execution_count": 9,
     "metadata": {},
     "output_type": "execute_result"
    }
   ],
   "source": [
    "test.isna().sum()"
   ]
  },
  {
   "cell_type": "code",
   "execution_count": 10,
   "metadata": {},
   "outputs": [
    {
     "data": {
      "text/plain": [
       "array([39., 24., 58., 33., 16., 44., 26., 28., 35., 14., 34., 45., 32.,\n",
       "       48., 31., 27.,  0.,  1., 49., 29., 10.,  7., 21., 62., 15., 43.,\n",
       "       47.,  2., 20., 23., 30., 17., 55.,  4., 19., 56., nan, 25., 38.,\n",
       "       36., 22., 18., 42., 37., 13.,  8., 40.,  3., 54.,  9.,  6., 64.,\n",
       "       67., 61., 50., 41., 57., 11., 52., 51., 46., 60., 63., 59.,  5.,\n",
       "       79., 68., 74., 12., 53., 65., 71., 75., 70., 76., 78., 73., 66.,\n",
       "       69., 72., 77.])"
      ]
     },
     "execution_count": 10,
     "metadata": {},
     "output_type": "execute_result"
    }
   ],
   "source": [
    "train.Age.unique()"
   ]
  },
  {
   "cell_type": "code",
   "execution_count": 11,
   "metadata": {},
   "outputs": [
    {
     "data": {
      "text/plain": [
       "array([False, True, nan], dtype=object)"
      ]
     },
     "execution_count": 11,
     "metadata": {},
     "output_type": "execute_result"
    }
   ],
   "source": [
    "train.VIP.unique()"
   ]
  },
  {
   "cell_type": "code",
   "execution_count": 12,
   "metadata": {},
   "outputs": [
    {
     "data": {
      "text/plain": [
       "0.0       5456\n",
       "1.0        116\n",
       "2.0         75\n",
       "4.0         53\n",
       "3.0         53\n",
       "          ... \n",
       "3206.0       1\n",
       "3879.0       1\n",
       "734.0        1\n",
       "4076.0       1\n",
       "2325.0       1\n",
       "Name: FoodCourt, Length: 1507, dtype: int64"
      ]
     },
     "execution_count": 12,
     "metadata": {},
     "output_type": "execute_result"
    }
   ],
   "source": [
    "train.FoodCourt.value_counts()"
   ]
  },
  {
   "cell_type": "code",
   "execution_count": 13,
   "metadata": {},
   "outputs": [
    {
     "data": {
      "text/plain": [
       "<matplotlib.axes._subplots.AxesSubplot at 0x1f208fb11f0>"
      ]
     },
     "execution_count": 13,
     "metadata": {},
     "output_type": "execute_result"
    },
    {
     "data": {
      "image/png": "[encoded data removed]",
      "text/plain": [
       "<Figure size 432x288 with 2 Axes>"
      ]
     },
     "metadata": {
      "needs_background": "light"
     },
     "output_type": "display_data"
    }
   ],
   "source": [
    "sns.heatmap(train.corr())"
   ]
  },
  {
   "cell_type": "code",
   "execution_count": 14,
   "metadata": {},
   "outputs": [
    {
     "data": {
      "text/html": [
       "<div>\n",
       "<style scoped>\n",
       "    .dataframe tbody tr th:only-of-type {\n",
       "        vertical-align: middle;\n",
       "    }\n",
       "\n",
       "    .dataframe tbody tr th {\n",
       "        vertical-align: top;\n",
       "    }\n",
       "\n",
       "    .dataframe thead th {\n",
       "        text-align: right;\n",
       "    }\n",
       "</style>\n",
       "<table border=\"1\" class=\"dataframe\">\n",
       "  <thead>\n",
       "    <tr style=\"text-align: right;\">\n",
       "      <th></th>\n",
       "      <th>HomePlanet</th>\n",
       "      <th>CryoSleep</th>\n",
       "      <th>Destination</th>\n",
       "      <th>Age</th>\n",
       "      <th>VIP</th>\n",
       "      <th>RoomService</th>\n",
       "      <th>FoodCourt</th>\n",
       "      <th>ShoppingMall</th>\n",
       "      <th>Spa</th>\n",
       "      <th>VRDeck</th>\n",
       "      <th>Transported</th>\n",
       "    </tr>\n",
       "  </thead>\n",
       "  <tbody>\n",
       "    <tr>\n",
       "      <th>0</th>\n",
       "      <td>Europa</td>\n",
       "      <td>False</td>\n",
       "      <td>TRAPPIST-1e</td>\n",
       "      <td>39.0</td>\n",
       "      <td>False</td>\n",
       "      <td>0.0</td>\n",
       "      <td>0.0</td>\n",
       "      <td>0.0</td>\n",
       "      <td>0.0</td>\n",
       "      <td>0.0</td>\n",
       "      <td>False</td>\n",
       "    </tr>\n",
       "    <tr>\n",
       "      <th>1</th>\n",
       "      <td>Earth</td>\n",
       "      <td>False</td>\n",
       "      <td>TRAPPIST-1e</td>\n",
       "      <td>24.0</td>\n",
       "      <td>False</td>\n",
       "      <td>109.0</td>\n",
       "      <td>9.0</td>\n",
       "      <td>25.0</td>\n",
       "      <td>549.0</td>\n",
       "      <td>44.0</td>\n",
       "      <td>True</td>\n",
       "    </tr>\n",
       "    <tr>\n",
       "      <th>2</th>\n",
       "      <td>Europa</td>\n",
       "      <td>False</td>\n",
       "      <td>TRAPPIST-1e</td>\n",
       "      <td>58.0</td>\n",
       "      <td>True</td>\n",
       "      <td>43.0</td>\n",
       "      <td>3576.0</td>\n",
       "      <td>0.0</td>\n",
       "      <td>6715.0</td>\n",
       "      <td>49.0</td>\n",
       "      <td>False</td>\n",
       "    </tr>\n",
       "    <tr>\n",
       "      <th>3</th>\n",
       "      <td>Europa</td>\n",
       "      <td>False</td>\n",
       "      <td>TRAPPIST-1e</td>\n",
       "      <td>33.0</td>\n",
       "      <td>False</td>\n",
       "      <td>0.0</td>\n",
       "      <td>1283.0</td>\n",
       "      <td>371.0</td>\n",
       "      <td>3329.0</td>\n",
       "      <td>193.0</td>\n",
       "      <td>False</td>\n",
       "    </tr>\n",
       "    <tr>\n",
       "      <th>4</th>\n",
       "      <td>Earth</td>\n",
       "      <td>False</td>\n",
       "      <td>TRAPPIST-1e</td>\n",
       "      <td>16.0</td>\n",
       "      <td>False</td>\n",
       "      <td>303.0</td>\n",
       "      <td>70.0</td>\n",
       "      <td>151.0</td>\n",
       "      <td>565.0</td>\n",
       "      <td>2.0</td>\n",
       "      <td>True</td>\n",
       "    </tr>\n",
       "  </tbody>\n",
       "</table>\n",
       "</div>"
      ],
      "text/plain": [
       "  HomePlanet CryoSleep  Destination   Age    VIP  RoomService  FoodCourt  \\\n",
       "0     Europa     False  TRAPPIST-1e  39.0  False          0.0        0.0   \n",
       "1      Earth     False  TRAPPIST-1e  24.0  False        109.0        9.0   \n",
       "2     Europa     False  TRAPPIST-1e  58.0   True         43.0     3576.0   \n",
       "3     Europa     False  TRAPPIST-1e  33.0  False          0.0     1283.0   \n",
       "4      Earth     False  TRAPPIST-1e  16.0  False        303.0       70.0   \n",
       "\n",
       "   ShoppingMall     Spa  VRDeck Transported  \n",
       "0           0.0     0.0     0.0       False  \n",
       "1          25.0   549.0    44.0        True  \n",
       "2           0.0  6715.0    49.0       False  \n",
       "3         371.0  3329.0   193.0       False  \n",
       "4         151.0   565.0     2.0        True  "
      ]
     },
     "execution_count": 14,
     "metadata": {},
     "output_type": "execute_result"
    }
   ],
   "source": [
    "data_all = pd.concat([train, test],sort= False)\n",
    "data_all.drop(['PassengerId','Cabin','Name'],axis=1,inplace=True)\n",
    "data_all.head()"
   ]
  },
  {
   "cell_type": "code",
   "execution_count": 15,
   "metadata": {},
   "outputs": [
    {
     "data": {
      "text/plain": [
       "HomePlanet       288\n",
       "CryoSleep        310\n",
       "Destination      274\n",
       "Age              270\n",
       "VIP              296\n",
       "RoomService      263\n",
       "FoodCourt        289\n",
       "ShoppingMall     306\n",
       "Spa              284\n",
       "VRDeck           268\n",
       "Transported     4277\n",
       "dtype: int64"
      ]
     },
     "execution_count": 15,
     "metadata": {},
     "output_type": "execute_result"
    }
   ],
   "source": [
    "data_all.isna().sum()"
   ]
  },
  {
   "cell_type": "code",
   "execution_count": 16,
   "metadata": {},
   "outputs": [
    {
     "name": "stdout",
     "output_type": "stream",
     "text": [
      "<class 'pandas.core.frame.DataFrame'>\n",
      "Int64Index: 12970 entries, 0 to 4276\n",
      "Data columns (total 11 columns):\n",
      " #   Column        Non-Null Count  Dtype  \n",
      "---  ------        --------------  -----  \n",
      " 0   HomePlanet    12682 non-null  object \n",
      " 1   CryoSleep     12660 non-null  object \n",
      " 2   Destination   12696 non-null  object \n",
      " 3   Age           12700 non-null  float64\n",
      " 4   VIP           12674 non-null  object \n",
      " 5   RoomService   12707 non-null  float64\n",
      " 6   FoodCourt     12681 non-null  float64\n",
      " 7   ShoppingMall  12664 non-null  float64\n",
      " 8   Spa           12686 non-null  float64\n",
      " 9   VRDeck        12702 non-null  float64\n",
      " 10  Transported   8693 non-null   object \n",
      "dtypes: float64(6), object(5)\n",
      "memory usage: 1.2+ MB\n"
     ]
    }
   ],
   "source": [
    "data_all.info()"
   ]
  },
  {
   "cell_type": "code",
   "execution_count": 17,
   "metadata": {},
   "outputs": [
    {
     "data": {
      "text/plain": [
       "HomePlanet       288\n",
       "CryoSleep        310\n",
       "Destination      274\n",
       "Age              270\n",
       "VIP              296\n",
       "RoomService      263\n",
       "FoodCourt        289\n",
       "ShoppingMall     306\n",
       "Spa              284\n",
       "VRDeck           268\n",
       "Transported     4277\n",
       "dtype: int64"
      ]
     },
     "execution_count": 17,
     "metadata": {},
     "output_type": "execute_result"
    }
   ],
   "source": [
    "data_all.isna().sum()"
   ]
  },
  {
   "cell_type": "code",
   "execution_count": 18,
   "metadata": {},
   "outputs": [],
   "source": [
    "data_all['HomePlanet'].fillna(st.mode(data_all['HomePlanet']), inplace=True)"
   ]
  },
  {
   "cell_type": "code",
   "execution_count": 19,
   "metadata": {},
   "outputs": [],
   "source": [
    "data_all['CryoSleep'].fillna(st.mode(data_all['CryoSleep']), inplace=True)"
   ]
  },
  {
   "cell_type": "code",
   "execution_count": 20,
   "metadata": {},
   "outputs": [],
   "source": [
    "data_all['Destination'].fillna(st.mode(data_all['Destination']), inplace=True)"
   ]
  },
  {
   "cell_type": "code",
   "execution_count": 21,
   "metadata": {},
   "outputs": [],
   "source": [
    "data_all['Age'].fillna(np.mean(data_all['Age']), inplace=True)"
   ]
  },
  {
   "cell_type": "code",
   "execution_count": 22,
   "metadata": {},
   "outputs": [],
   "source": [
    "data_all['RoomService'].fillna(np.mean(data_all['RoomService']), inplace=True)"
   ]
  },
  {
   "cell_type": "code",
   "execution_count": 23,
   "metadata": {},
   "outputs": [],
   "source": [
    "data_all['FoodCourt'].fillna(np.mean(data_all['FoodCourt']), inplace=True)"
   ]
  },
  {
   "cell_type": "code",
   "execution_count": 24,
   "metadata": {},
   "outputs": [],
   "source": [
    "data_all['ShoppingMall'].fillna(np.mean(data_all['ShoppingMall']), inplace=True)"
   ]
  },
  {
   "cell_type": "code",
   "execution_count": 25,
   "metadata": {},
   "outputs": [],
   "source": [
    "data_all['Spa'].fillna(np.mean(data_all['Spa']), inplace=True)"
   ]
  },
  {
   "cell_type": "code",
   "execution_count": 26,
   "metadata": {},
   "outputs": [],
   "source": [
    "data_all['VRDeck'].fillna(np.mean(data_all['VRDeck']), inplace=True)"
   ]
  },
  {
   "cell_type": "code",
   "execution_count": 27,
   "metadata": {},
   "outputs": [],
   "source": [
    "data_all['VIP'].fillna(st.mode(data_all['VIP']), inplace=True)"
   ]
  },
  {
   "cell_type": "code",
   "execution_count": 28,
   "metadata": {},
   "outputs": [
    {
     "data": {
      "text/plain": [
       "HomePlanet         0\n",
       "CryoSleep          0\n",
       "Destination        0\n",
       "Age                0\n",
       "VIP                0\n",
       "RoomService        0\n",
       "FoodCourt          0\n",
       "ShoppingMall       0\n",
       "Spa                0\n",
       "VRDeck             0\n",
       "Transported     4277\n",
       "dtype: int64"
      ]
     },
     "execution_count": 28,
     "metadata": {},
     "output_type": "execute_result"
    }
   ],
   "source": [
    "data_all.isna().sum()"
   ]
  },
  {
   "cell_type": "code",
   "execution_count": 29,
   "metadata": {},
   "outputs": [
    {
     "name": "stdout",
     "output_type": "stream",
     "text": [
      "<class 'pandas.core.frame.DataFrame'>\n",
      "Int64Index: 12970 entries, 0 to 4276\n",
      "Data columns (total 11 columns):\n",
      " #   Column        Non-Null Count  Dtype  \n",
      "---  ------        --------------  -----  \n",
      " 0   HomePlanet    12970 non-null  object \n",
      " 1   CryoSleep     12970 non-null  bool   \n",
      " 2   Destination   12970 non-null  object \n",
      " 3   Age           12970 non-null  float64\n",
      " 4   VIP           12970 non-null  bool   \n",
      " 5   RoomService   12970 non-null  float64\n",
      " 6   FoodCourt     12970 non-null  float64\n",
      " 7   ShoppingMall  12970 non-null  float64\n",
      " 8   Spa           12970 non-null  float64\n",
      " 9   VRDeck        12970 non-null  float64\n",
      " 10  Transported   8693 non-null   object \n",
      "dtypes: bool(2), float64(6), object(3)\n",
      "memory usage: 1.0+ MB\n"
     ]
    }
   ],
   "source": [
    "data_all.info()"
   ]
  },
  {
   "cell_type": "code",
   "execution_count": 30,
   "metadata": {},
   "outputs": [
    {
     "data": {
      "text/plain": [
       "array(['Europa', 'Earth', 'Mars'], dtype=object)"
      ]
     },
     "execution_count": 30,
     "metadata": {},
     "output_type": "execute_result"
    }
   ],
   "source": [
    "data_all.HomePlanet.unique()"
   ]
  },
  {
   "cell_type": "code",
   "execution_count": 31,
   "metadata": {},
   "outputs": [
    {
     "data": {
      "text/plain": [
       "array(['TRAPPIST-1e', 'PSO J318.5-22', '55 Cancri e'], dtype=object)"
      ]
     },
     "execution_count": 31,
     "metadata": {},
     "output_type": "execute_result"
    }
   ],
   "source": [
    "data_all.Destination.unique()"
   ]
  },
  {
   "cell_type": "code",
   "execution_count": 32,
   "metadata": {},
   "outputs": [],
   "source": [
    "data_all['CryoSleep'].replace([False,True],[0,1],inplace=True)\n",
    "\n",
    "\n",
    "data_all['Destination'].replace(['TRAPPIST-1e','55 Cancri e','PSO J318.5-22'],[0,1,2],inplace=True)\n",
    "\n",
    "\n",
    "data_all['VIP'].replace([False,True],[0,1],inplace=True)\n",
    "\n",
    "\n",
    "data_all['Transported'].replace([False,True],[0,1],inplace=True)\n",
    "\n",
    "\n",
    "data_all['HomePlanet'].replace(['Earth','Europa','Mars'],[0,1,2],inplace=True)"
   ]
  },
  {
   "cell_type": "code",
   "execution_count": 33,
   "metadata": {},
   "outputs": [
    {
     "name": "stdout",
     "output_type": "stream",
     "text": [
      "<class 'pandas.core.frame.DataFrame'>\n",
      "Int64Index: 12970 entries, 0 to 4276\n",
      "Data columns (total 11 columns):\n",
      " #   Column        Non-Null Count  Dtype  \n",
      "---  ------        --------------  -----  \n",
      " 0   HomePlanet    12970 non-null  int64  \n",
      " 1   CryoSleep     12970 non-null  int64  \n",
      " 2   Destination   12970 non-null  int64  \n",
      " 3   Age           12970 non-null  float64\n",
      " 4   VIP           12970 non-null  int64  \n",
      " 5   RoomService   12970 non-null  float64\n",
      " 6   FoodCourt     12970 non-null  float64\n",
      " 7   ShoppingMall  12970 non-null  float64\n",
      " 8   Spa           12970 non-null  float64\n",
      " 9   VRDeck        12970 non-null  float64\n",
      " 10  Transported   8693 non-null   float64\n",
      "dtypes: float64(7), int64(4)\n",
      "memory usage: 1.2 MB\n"
     ]
    }
   ],
   "source": [
    "data_all.info()"
   ]
  },
  {
   "cell_type": "code",
   "execution_count": 34,
   "metadata": {},
   "outputs": [
    {
     "data": {
      "text/html": [
       "<div>\n",
       "<style scoped>\n",
       "    .dataframe tbody tr th:only-of-type {\n",
       "        vertical-align: middle;\n",
       "    }\n",
       "\n",
       "    .dataframe tbody tr th {\n",
       "        vertical-align: top;\n",
       "    }\n",
       "\n",
       "    .dataframe thead th {\n",
       "        text-align: right;\n",
       "    }\n",
       "</style>\n",
       "<table border=\"1\" class=\"dataframe\">\n",
       "  <thead>\n",
       "    <tr style=\"text-align: right;\">\n",
       "      <th></th>\n",
       "      <th>HomePlanet</th>\n",
       "      <th>CryoSleep</th>\n",
       "      <th>Destination</th>\n",
       "      <th>Age</th>\n",
       "      <th>VIP</th>\n",
       "      <th>RoomService</th>\n",
       "      <th>FoodCourt</th>\n",
       "      <th>ShoppingMall</th>\n",
       "      <th>Spa</th>\n",
       "      <th>VRDeck</th>\n",
       "      <th>Transported</th>\n",
       "    </tr>\n",
       "  </thead>\n",
       "  <tbody>\n",
       "    <tr>\n",
       "      <th>0</th>\n",
       "      <td>1</td>\n",
       "      <td>0</td>\n",
       "      <td>0</td>\n",
       "      <td>39.0</td>\n",
       "      <td>0</td>\n",
       "      <td>0.0</td>\n",
       "      <td>0.0</td>\n",
       "      <td>0.0</td>\n",
       "      <td>0.0</td>\n",
       "      <td>0.0</td>\n",
       "      <td>0.0</td>\n",
       "    </tr>\n",
       "    <tr>\n",
       "      <th>1</th>\n",
       "      <td>0</td>\n",
       "      <td>0</td>\n",
       "      <td>0</td>\n",
       "      <td>24.0</td>\n",
       "      <td>0</td>\n",
       "      <td>109.0</td>\n",
       "      <td>9.0</td>\n",
       "      <td>25.0</td>\n",
       "      <td>549.0</td>\n",
       "      <td>44.0</td>\n",
       "      <td>1.0</td>\n",
       "    </tr>\n",
       "    <tr>\n",
       "      <th>2</th>\n",
       "      <td>1</td>\n",
       "      <td>0</td>\n",
       "      <td>0</td>\n",
       "      <td>58.0</td>\n",
       "      <td>1</td>\n",
       "      <td>43.0</td>\n",
       "      <td>3576.0</td>\n",
       "      <td>0.0</td>\n",
       "      <td>6715.0</td>\n",
       "      <td>49.0</td>\n",
       "      <td>0.0</td>\n",
       "    </tr>\n",
       "    <tr>\n",
       "      <th>3</th>\n",
       "      <td>1</td>\n",
       "      <td>0</td>\n",
       "      <td>0</td>\n",
       "      <td>33.0</td>\n",
       "      <td>0</td>\n",
       "      <td>0.0</td>\n",
       "      <td>1283.0</td>\n",
       "      <td>371.0</td>\n",
       "      <td>3329.0</td>\n",
       "      <td>193.0</td>\n",
       "      <td>0.0</td>\n",
       "    </tr>\n",
       "    <tr>\n",
       "      <th>4</th>\n",
       "      <td>0</td>\n",
       "      <td>0</td>\n",
       "      <td>0</td>\n",
       "      <td>16.0</td>\n",
       "      <td>0</td>\n",
       "      <td>303.0</td>\n",
       "      <td>70.0</td>\n",
       "      <td>151.0</td>\n",
       "      <td>565.0</td>\n",
       "      <td>2.0</td>\n",
       "      <td>1.0</td>\n",
       "    </tr>\n",
       "    <tr>\n",
       "      <th>...</th>\n",
       "      <td>...</td>\n",
       "      <td>...</td>\n",
       "      <td>...</td>\n",
       "      <td>...</td>\n",
       "      <td>...</td>\n",
       "      <td>...</td>\n",
       "      <td>...</td>\n",
       "      <td>...</td>\n",
       "      <td>...</td>\n",
       "      <td>...</td>\n",
       "      <td>...</td>\n",
       "    </tr>\n",
       "    <tr>\n",
       "      <th>8688</th>\n",
       "      <td>1</td>\n",
       "      <td>0</td>\n",
       "      <td>1</td>\n",
       "      <td>41.0</td>\n",
       "      <td>1</td>\n",
       "      <td>0.0</td>\n",
       "      <td>6819.0</td>\n",
       "      <td>0.0</td>\n",
       "      <td>1643.0</td>\n",
       "      <td>74.0</td>\n",
       "      <td>0.0</td>\n",
       "    </tr>\n",
       "    <tr>\n",
       "      <th>8689</th>\n",
       "      <td>0</td>\n",
       "      <td>1</td>\n",
       "      <td>2</td>\n",
       "      <td>18.0</td>\n",
       "      <td>0</td>\n",
       "      <td>0.0</td>\n",
       "      <td>0.0</td>\n",
       "      <td>0.0</td>\n",
       "      <td>0.0</td>\n",
       "      <td>0.0</td>\n",
       "      <td>0.0</td>\n",
       "    </tr>\n",
       "    <tr>\n",
       "      <th>8690</th>\n",
       "      <td>0</td>\n",
       "      <td>0</td>\n",
       "      <td>0</td>\n",
       "      <td>26.0</td>\n",
       "      <td>0</td>\n",
       "      <td>0.0</td>\n",
       "      <td>0.0</td>\n",
       "      <td>1872.0</td>\n",
       "      <td>1.0</td>\n",
       "      <td>0.0</td>\n",
       "      <td>1.0</td>\n",
       "    </tr>\n",
       "    <tr>\n",
       "      <th>8691</th>\n",
       "      <td>1</td>\n",
       "      <td>0</td>\n",
       "      <td>1</td>\n",
       "      <td>32.0</td>\n",
       "      <td>0</td>\n",
       "      <td>0.0</td>\n",
       "      <td>1049.0</td>\n",
       "      <td>0.0</td>\n",
       "      <td>353.0</td>\n",
       "      <td>3235.0</td>\n",
       "      <td>0.0</td>\n",
       "    </tr>\n",
       "    <tr>\n",
       "      <th>8692</th>\n",
       "      <td>1</td>\n",
       "      <td>0</td>\n",
       "      <td>0</td>\n",
       "      <td>44.0</td>\n",
       "      <td>0</td>\n",
       "      <td>126.0</td>\n",
       "      <td>4688.0</td>\n",
       "      <td>0.0</td>\n",
       "      <td>0.0</td>\n",
       "      <td>12.0</td>\n",
       "      <td>1.0</td>\n",
       "    </tr>\n",
       "  </tbody>\n",
       "</table>\n",
       "<p>8693 rows × 11 columns</p>\n",
       "</div>"
      ],
      "text/plain": [
       "      HomePlanet  CryoSleep  Destination   Age  VIP  RoomService  FoodCourt  \\\n",
       "0              1          0            0  39.0    0          0.0        0.0   \n",
       "1              0          0            0  24.0    0        109.0        9.0   \n",
       "2              1          0            0  58.0    1         43.0     3576.0   \n",
       "3              1          0            0  33.0    0          0.0     1283.0   \n",
       "4              0          0            0  16.0    0        303.0       70.0   \n",
       "...          ...        ...          ...   ...  ...          ...        ...   \n",
       "8688           1          0            1  41.0    1          0.0     6819.0   \n",
       "8689           0          1            2  18.0    0          0.0        0.0   \n",
       "8690           0          0            0  26.0    0          0.0        0.0   \n",
       "8691           1          0            1  32.0    0          0.0     1049.0   \n",
       "8692           1          0            0  44.0    0        126.0     4688.0   \n",
       "\n",
       "      ShoppingMall     Spa  VRDeck  Transported  \n",
       "0              0.0     0.0     0.0          0.0  \n",
       "1             25.0   549.0    44.0          1.0  \n",
       "2              0.0  6715.0    49.0          0.0  \n",
       "3            371.0  3329.0   193.0          0.0  \n",
       "4            151.0   565.0     2.0          1.0  \n",
       "...            ...     ...     ...          ...  \n",
       "8688           0.0  1643.0    74.0          0.0  \n",
       "8689           0.0     0.0     0.0          0.0  \n",
       "8690        1872.0     1.0     0.0          1.0  \n",
       "8691           0.0   353.0  3235.0          0.0  \n",
       "8692           0.0     0.0    12.0          1.0  \n",
       "\n",
       "[8693 rows x 11 columns]"
      ]
     },
     "execution_count": 34,
     "metadata": {},
     "output_type": "execute_result"
    }
   ],
   "source": [
    "data_all[~data_all['Transported'].isnull()]"
   ]
  },
  {
   "cell_type": "code",
   "execution_count": 35,
   "metadata": {},
   "outputs": [],
   "source": [
    "data_train = data_all[~data_all['Transported'].isnull()]"
   ]
  },
  {
   "cell_type": "code",
   "execution_count": 36,
   "metadata": {},
   "outputs": [],
   "source": [
    "data_test = data_all[data_all['Transported'].isnull()]"
   ]
  },
  {
   "cell_type": "code",
   "execution_count": 62,
   "metadata": {},
   "outputs": [],
   "source": [
    "y_train = data_train['Transported']\n",
    "X_train = data_train.drop(['Transported'],axis=1)"
   ]
  },
  {
   "cell_type": "code",
   "execution_count": 65,
   "metadata": {},
   "outputs": [
    {
     "name": "stderr",
     "output_type": "stream",
     "text": [
      "<ipython-input-65-3ffd48839b11>:1: SettingWithCopyWarning: \n",
      "A value is trying to be set on a copy of a slice from a DataFrame\n",
      "\n",
      "See the caveats in the documentation: https://pandas.pydata.org/pandas-docs/stable/user_guide/indexing.html#returning-a-view-versus-a-copy\n",
      "  y_train[y_train==False]=0\n",
      "C:\\Users\\Ishani\\anaconda3\\lib\\site-packages\\pandas\\core\\generic.py:8765: SettingWithCopyWarning: \n",
      "A value is trying to be set on a copy of a slice from a DataFrame\n",
      "\n",
      "See the caveats in the documentation: https://pandas.pydata.org/pandas-docs/stable/user_guide/indexing.html#returning-a-view-versus-a-copy\n",
      "  self._update_inplace(new_data)\n",
      "<ipython-input-65-3ffd48839b11>:2: SettingWithCopyWarning: \n",
      "A value is trying to be set on a copy of a slice from a DataFrame\n",
      "\n",
      "See the caveats in the documentation: https://pandas.pydata.org/pandas-docs/stable/user_guide/indexing.html#returning-a-view-versus-a-copy\n",
      "  y_train[y_train==True]=1\n"
     ]
    }
   ],
   "source": [
    "y_train[y_train==False]=0\n",
    "y_train[y_train==True]=1"
   ]
  },
  {
   "cell_type": "code",
   "execution_count": 67,
   "metadata": {},
   "outputs": [],
   "source": [
    "X_test = data_test"
   ]
  },
  {
   "cell_type": "code",
   "execution_count": 68,
   "metadata": {},
   "outputs": [
    {
     "data": {
      "text/plain": [
       "<matplotlib.axes._subplots.AxesSubplot at 0x1f20c899310>"
      ]
     },
     "execution_count": 68,
     "metadata": {},
     "output_type": "execute_result"
    },
    {
     "data": {
      "image/png": "[encoded data removed]",
      "text/plain": [
       "<Figure size 432x288 with 1 Axes>"
      ]
     },
     "metadata": {
      "needs_background": "light"
     },
     "output_type": "display_data"
    }
   ],
   "source": [
    "sns.barplot(y_train,X_train.Age)"
   ]
  },
  {
   "cell_type": "code",
   "execution_count": 69,
   "metadata": {},
   "outputs": [],
   "source": [
    "from sklearn.neural_network import MLPClassifier"
   ]
  },
  {
   "cell_type": "code",
   "execution_count": 90,
   "metadata": {},
   "outputs": [],
   "source": [
    "nnmodel = MLPClassifier(hidden_layer_sizes=(100,100,100), activation= 'tanh',\n",
    "                        solver='adam', alpha=0.001, batch_size='auto',\n",
    "                        learning_rate='constant', learning_rate_init=0.001,\n",
    "                        max_iter=250, shuffle=True, random_state=None, tol=0.0001,\n",
    "                        verbose=1, warm_start=False, momentum=0.9, nesterovs_momentum=True,\n",
    "                        early_stopping=False, validation_fraction=0.1, beta_1=0.9,\n",
    "                        beta_2=0.999, epsilon=1e-08, n_iter_no_change=10, max_fun=15000)"
   ]
  },
  {
   "cell_type": "code",
   "execution_count": 93,
   "metadata": {},
   "outputs": [
    {
     "name": "stdout",
     "output_type": "stream",
     "text": [
      "Iteration 1, loss = 0.52953114\n",
      "Iteration 2, loss = 0.48997942\n",
      "Iteration 3, loss = 0.48374038\n",
      "Iteration 4, loss = 0.47663893\n",
      "Iteration 5, loss = 0.47137098\n",
      "Iteration 6, loss = 0.47145650\n",
      "Iteration 7, loss = 0.47310055\n",
      "Iteration 8, loss = 0.46634830\n",
      "Iteration 9, loss = 0.46897080\n",
      "Iteration 10, loss = 0.47055629\n",
      "Iteration 11, loss = 0.46524524\n",
      "Iteration 12, loss = 0.46247669\n",
      "Iteration 13, loss = 0.46187940\n",
      "Iteration 14, loss = 0.45733380\n",
      "Iteration 15, loss = 0.45637688\n",
      "Iteration 16, loss = 0.45883176\n",
      "Iteration 17, loss = 0.45297954\n",
      "Iteration 18, loss = 0.45389554\n",
      "Iteration 19, loss = 0.45106979\n",
      "Iteration 20, loss = 0.44908027\n",
      "Iteration 21, loss = 0.44971920\n",
      "Iteration 22, loss = 0.44917863\n",
      "Iteration 23, loss = 0.44617552\n",
      "Iteration 24, loss = 0.44744202\n",
      "Iteration 25, loss = 0.44893914\n",
      "Iteration 26, loss = 0.44986248\n",
      "Iteration 27, loss = 0.44179939\n",
      "Iteration 28, loss = 0.44173272\n",
      "Iteration 29, loss = 0.44357562\n",
      "Iteration 30, loss = 0.44349112\n",
      "Iteration 31, loss = 0.44057712\n",
      "Iteration 32, loss = 0.43700391\n",
      "Iteration 33, loss = 0.43573219\n",
      "Iteration 34, loss = 0.43703538\n",
      "Iteration 35, loss = 0.43961109\n",
      "Iteration 36, loss = 0.43650648\n",
      "Iteration 37, loss = 0.43883085\n",
      "Iteration 38, loss = 0.43730941\n",
      "Iteration 39, loss = 0.43602616\n",
      "Iteration 40, loss = 0.43537556\n",
      "Iteration 41, loss = 0.44049640\n",
      "Iteration 42, loss = 0.43793046\n",
      "Iteration 43, loss = 0.43513151\n",
      "Iteration 44, loss = 0.43680449\n",
      "Iteration 45, loss = 0.43851586\n",
      "Iteration 46, loss = 0.43671003\n",
      "Iteration 47, loss = 0.43382165\n",
      "Iteration 48, loss = 0.43277537\n",
      "Iteration 49, loss = 0.43540068\n",
      "Iteration 50, loss = 0.43193288\n",
      "Iteration 51, loss = 0.43264058\n",
      "Iteration 52, loss = 0.43306165\n",
      "Iteration 53, loss = 0.43409872\n",
      "Iteration 54, loss = 0.43113285\n",
      "Iteration 55, loss = 0.43447978\n",
      "Iteration 56, loss = 0.43248964\n",
      "Iteration 57, loss = 0.42949356\n",
      "Iteration 58, loss = 0.43181119\n",
      "Iteration 59, loss = 0.42968233\n",
      "Iteration 60, loss = 0.42710238\n",
      "Iteration 61, loss = 0.43027348\n",
      "Iteration 62, loss = 0.43002814\n",
      "Iteration 63, loss = 0.42653707\n",
      "Iteration 64, loss = 0.43266249\n",
      "Iteration 65, loss = 0.42983012\n",
      "Iteration 66, loss = 0.43130911\n",
      "Iteration 67, loss = 0.42730108\n",
      "Iteration 68, loss = 0.42949049\n",
      "Iteration 69, loss = 0.42799130\n",
      "Iteration 70, loss = 0.42541936\n",
      "Iteration 71, loss = 0.42846543\n",
      "Iteration 72, loss = 0.42811372\n",
      "Iteration 73, loss = 0.42645241\n",
      "Iteration 74, loss = 0.42841690\n",
      "Iteration 75, loss = 0.42913612\n",
      "Iteration 76, loss = 0.42882775\n",
      "Iteration 77, loss = 0.42823149\n",
      "Iteration 78, loss = 0.42909391\n",
      "Iteration 79, loss = 0.42561103\n",
      "Iteration 80, loss = 0.42534828\n",
      "Iteration 81, loss = 0.42479440\n",
      "Iteration 82, loss = 0.42575323\n",
      "Iteration 83, loss = 0.42380973\n",
      "Iteration 84, loss = 0.42524986\n",
      "Iteration 85, loss = 0.42820004\n",
      "Iteration 86, loss = 0.42439618\n",
      "Iteration 87, loss = 0.42663869\n",
      "Iteration 88, loss = 0.42519337\n",
      "Iteration 89, loss = 0.42201698\n",
      "Iteration 90, loss = 0.42341552\n",
      "Iteration 91, loss = 0.42438128\n",
      "Iteration 92, loss = 0.42522288\n",
      "Iteration 93, loss = 0.42454719\n",
      "Iteration 94, loss = 0.42261020\n",
      "Iteration 95, loss = 0.42247268\n",
      "Iteration 96, loss = 0.42246160\n",
      "Iteration 97, loss = 0.42114656\n",
      "Iteration 98, loss = 0.42097952\n",
      "Iteration 99, loss = 0.41839397\n",
      "Iteration 100, loss = 0.41949195\n",
      "Iteration 101, loss = 0.41791285\n",
      "Iteration 102, loss = 0.41746135\n",
      "Iteration 103, loss = 0.41569335\n",
      "Iteration 104, loss = 0.41967709\n",
      "Iteration 105, loss = 0.41845806\n",
      "Iteration 106, loss = 0.41986618\n",
      "Iteration 107, loss = 0.41759994\n",
      "Iteration 108, loss = 0.41922592\n",
      "Iteration 109, loss = 0.41748895\n",
      "Iteration 110, loss = 0.41914059\n",
      "Iteration 111, loss = 0.41934074\n",
      "Iteration 112, loss = 0.41664693\n",
      "Iteration 113, loss = 0.41640927\n",
      "Iteration 114, loss = 0.41793276\n",
      "Training loss did not improve more than tol=0.000100 for 10 consecutive epochs. Stopping.\n"
     ]
    },
    {
     "data": {
      "text/plain": [
       "MLPClassifier(activation='tanh', alpha=0.001,\n",
       "              hidden_layer_sizes=(100, 100, 100), max_iter=250, verbose=1)"
      ]
     },
     "execution_count": 93,
     "metadata": {},
     "output_type": "execute_result"
    }
   ],
   "source": [
    "nnmodel.fit(X_train, y_train)"
   ]
  },
  {
   "cell_type": "code",
   "execution_count": 91,
   "metadata": {},
   "outputs": [
    {
     "name": "stdout",
     "output_type": "stream",
     "text": [
      "Iteration 1, loss = 0.53775323\n",
      "Iteration 2, loss = 0.50016745\n",
      "Iteration 3, loss = 0.48894831\n",
      "Iteration 4, loss = 0.47796980\n",
      "Iteration 5, loss = 0.47148226\n",
      "Iteration 6, loss = 0.47560910\n",
      "Iteration 7, loss = 0.46808697\n",
      "Iteration 8, loss = 0.46434663\n",
      "Iteration 9, loss = 0.45881299\n",
      "Iteration 10, loss = 0.45901154\n",
      "Iteration 11, loss = 0.45606841\n",
      "Iteration 12, loss = 0.45788319\n",
      "Iteration 13, loss = 0.45309654\n",
      "Iteration 14, loss = 0.45517873\n",
      "Iteration 15, loss = 0.44999892\n",
      "Iteration 16, loss = 0.45156987\n",
      "Iteration 17, loss = 0.45284371\n",
      "Iteration 18, loss = 0.45036388\n",
      "Iteration 19, loss = 0.44676021\n",
      "Iteration 20, loss = 0.44559469\n",
      "Iteration 21, loss = 0.44143780\n",
      "Iteration 22, loss = 0.44160177\n",
      "Iteration 23, loss = 0.44255084\n",
      "Iteration 24, loss = 0.43861172\n",
      "Iteration 25, loss = 0.43880380\n",
      "Iteration 26, loss = 0.43999276\n",
      "Iteration 27, loss = 0.43461531\n",
      "Iteration 28, loss = 0.43607578\n",
      "Iteration 29, loss = 0.43038900\n",
      "Iteration 30, loss = 0.43271501\n",
      "Iteration 31, loss = 0.43634857\n",
      "Iteration 32, loss = 0.42968600\n",
      "Iteration 33, loss = 0.43182046\n",
      "Iteration 34, loss = 0.42985009\n",
      "Iteration 35, loss = 0.43168147\n",
      "Iteration 36, loss = 0.42976033\n",
      "Iteration 37, loss = 0.43092672\n",
      "Iteration 38, loss = 0.42927647\n",
      "Iteration 39, loss = 0.43143195\n",
      "Iteration 40, loss = 0.42666256\n",
      "Iteration 41, loss = 0.42804858\n",
      "Iteration 42, loss = 0.42803637\n",
      "Iteration 43, loss = 0.42482982\n",
      "Iteration 44, loss = 0.43196370\n",
      "Iteration 45, loss = 0.42588626\n",
      "Iteration 46, loss = 0.42745062\n",
      "Iteration 47, loss = 0.42564035\n",
      "Iteration 48, loss = 0.42558289\n",
      "Iteration 49, loss = 0.42322732\n",
      "Iteration 50, loss = 0.42314176\n",
      "Iteration 51, loss = 0.42704733\n",
      "Iteration 52, loss = 0.42797968\n",
      "Iteration 53, loss = 0.42751095\n",
      "Iteration 54, loss = 0.42591342\n",
      "Iteration 55, loss = 0.42232845\n",
      "Iteration 56, loss = 0.42396022\n",
      "Iteration 57, loss = 0.42284764\n",
      "Iteration 58, loss = 0.42128099\n",
      "Iteration 59, loss = 0.42697958\n",
      "Iteration 60, loss = 0.41954747\n",
      "Iteration 61, loss = 0.42175453\n",
      "Iteration 62, loss = 0.42118265\n",
      "Iteration 63, loss = 0.42419447\n",
      "Iteration 64, loss = 0.41887664\n",
      "Iteration 65, loss = 0.42161059\n",
      "Iteration 66, loss = 0.42157212\n",
      "Iteration 67, loss = 0.42090835\n",
      "Iteration 68, loss = 0.42305327\n",
      "Iteration 69, loss = 0.41722351\n",
      "Iteration 70, loss = 0.41771783\n",
      "Iteration 71, loss = 0.41663269\n",
      "Iteration 72, loss = 0.41915963\n",
      "Iteration 73, loss = 0.42115940\n",
      "Iteration 74, loss = 0.41382925\n",
      "Iteration 75, loss = 0.41684020\n",
      "Iteration 76, loss = 0.41421338\n",
      "Iteration 77, loss = 0.41552853\n",
      "Iteration 78, loss = 0.41633711\n",
      "Iteration 79, loss = 0.41695533\n",
      "Iteration 80, loss = 0.41841916\n",
      "Iteration 81, loss = 0.41882232\n",
      "Iteration 82, loss = 0.41216796\n",
      "Iteration 83, loss = 0.41850930\n",
      "Iteration 84, loss = 0.41610093\n",
      "Iteration 85, loss = 0.41752559\n",
      "Iteration 86, loss = 0.41317771\n",
      "Iteration 87, loss = 0.41288418\n",
      "Iteration 88, loss = 0.41056406\n",
      "Iteration 89, loss = 0.41238252\n",
      "Iteration 90, loss = 0.41332461\n",
      "Iteration 91, loss = 0.41017122\n",
      "Iteration 92, loss = 0.41228909\n",
      "Iteration 93, loss = 0.41323889\n",
      "Iteration 94, loss = 0.41260102\n",
      "Iteration 95, loss = 0.40968608\n",
      "Iteration 96, loss = 0.41247033\n",
      "Iteration 97, loss = 0.41199730\n",
      "Iteration 98, loss = 0.40978160\n",
      "Iteration 99, loss = 0.40912531\n",
      "Iteration 100, loss = 0.40809283\n",
      "Iteration 101, loss = 0.40840465\n",
      "Iteration 102, loss = 0.41014722\n",
      "Iteration 103, loss = 0.41065306\n",
      "Iteration 104, loss = 0.41337707\n",
      "Iteration 105, loss = 0.40960255\n",
      "Iteration 106, loss = 0.40646132\n",
      "Iteration 107, loss = 0.40891403\n",
      "Iteration 108, loss = 0.40792804\n",
      "Iteration 109, loss = 0.40981189\n",
      "Iteration 110, loss = 0.41266359\n",
      "Iteration 111, loss = 0.40877713\n",
      "Iteration 112, loss = 0.40660595\n",
      "Iteration 113, loss = 0.40771610\n",
      "Iteration 114, loss = 0.40623171\n",
      "Iteration 115, loss = 0.40669148\n",
      "Iteration 116, loss = 0.40666745\n",
      "Iteration 117, loss = 0.40468830\n",
      "Iteration 118, loss = 0.40267279\n",
      "Iteration 119, loss = 0.40449909\n",
      "Iteration 120, loss = 0.40328244\n",
      "Iteration 121, loss = 0.40414834\n",
      "Iteration 122, loss = 0.40448598\n",
      "Iteration 123, loss = 0.40168631\n",
      "Iteration 124, loss = 0.40137261\n",
      "Iteration 125, loss = 0.40293848\n",
      "Iteration 126, loss = 0.40217427\n",
      "Iteration 127, loss = 0.40359460\n",
      "Iteration 128, loss = 0.39946186\n",
      "Iteration 129, loss = 0.40105492\n",
      "Iteration 130, loss = 0.39990090\n",
      "Iteration 131, loss = 0.40153811\n",
      "Iteration 132, loss = 0.40074548\n",
      "Iteration 133, loss = 0.40192157\n",
      "Iteration 134, loss = 0.40277599\n",
      "Iteration 135, loss = 0.39932592\n",
      "Iteration 136, loss = 0.40469439\n",
      "Iteration 137, loss = 0.40190690\n",
      "Iteration 138, loss = 0.39759264\n",
      "Iteration 139, loss = 0.39566532\n",
      "Iteration 140, loss = 0.39568911\n",
      "Iteration 141, loss = 0.39738287\n",
      "Iteration 142, loss = 0.39610712\n",
      "Iteration 143, loss = 0.39461240\n",
      "Iteration 144, loss = 0.39534647\n",
      "Iteration 145, loss = 0.39545646\n",
      "Iteration 146, loss = 0.39719796\n",
      "Iteration 147, loss = 0.39565116\n",
      "Iteration 148, loss = 0.39905267\n",
      "Iteration 149, loss = 0.39937411\n",
      "Iteration 150, loss = 0.39675281\n",
      "Iteration 151, loss = 0.39690414\n",
      "Iteration 152, loss = 0.39251720\n",
      "Iteration 153, loss = 0.39518496\n",
      "Iteration 154, loss = 0.39493179\n",
      "Iteration 155, loss = 0.39355586\n",
      "Iteration 156, loss = 0.39267258\n",
      "Iteration 157, loss = 0.39312438\n",
      "Iteration 158, loss = 0.39251384\n",
      "Iteration 159, loss = 0.39556146\n",
      "Iteration 160, loss = 0.39212111\n",
      "Iteration 161, loss = 0.39497740\n",
      "Iteration 162, loss = 0.39190254\n",
      "Iteration 163, loss = 0.38876396\n",
      "Iteration 164, loss = 0.39351276\n",
      "Iteration 165, loss = 0.39370148\n",
      "Iteration 166, loss = 0.38769816\n",
      "Iteration 167, loss = 0.39036353\n",
      "Iteration 168, loss = 0.39098604\n",
      "Iteration 169, loss = 0.39214131\n",
      "Iteration 170, loss = 0.38916326\n",
      "Iteration 171, loss = 0.39055499\n",
      "Iteration 172, loss = 0.39254083\n",
      "Iteration 173, loss = 0.39111256\n",
      "Iteration 174, loss = 0.38813346\n",
      "Iteration 175, loss = 0.38737733\n",
      "Iteration 176, loss = 0.38575229\n",
      "Iteration 177, loss = 0.39005290\n",
      "Iteration 178, loss = 0.39036432\n",
      "Iteration 179, loss = 0.39039802\n",
      "Iteration 180, loss = 0.38713766\n",
      "Iteration 181, loss = 0.38787502\n",
      "Iteration 182, loss = 0.38902913\n",
      "Iteration 183, loss = 0.39133996\n",
      "Iteration 184, loss = 0.38768191\n",
      "Iteration 185, loss = 0.38738929\n",
      "Iteration 186, loss = 0.39273071\n",
      "Iteration 187, loss = 0.39105136\n",
      "Training loss did not improve more than tol=0.000100 for 10 consecutive epochs. Stopping.\n",
      "Iteration 1, loss = 0.53727132\n",
      "Iteration 2, loss = 0.49811728\n",
      "Iteration 3, loss = 0.48654759\n",
      "Iteration 4, loss = 0.47544821\n",
      "Iteration 5, loss = 0.46929365\n",
      "Iteration 6, loss = 0.46803800\n",
      "Iteration 7, loss = 0.46121205\n",
      "Iteration 8, loss = 0.46448512\n",
      "Iteration 9, loss = 0.46365674\n",
      "Iteration 10, loss = 0.45472536\n",
      "Iteration 11, loss = 0.45311043\n",
      "Iteration 12, loss = 0.45651295\n",
      "Iteration 13, loss = 0.45147235\n",
      "Iteration 14, loss = 0.44788483\n",
      "Iteration 15, loss = 0.44705447\n",
      "Iteration 16, loss = 0.44673257\n",
      "Iteration 17, loss = 0.44717491\n",
      "Iteration 18, loss = 0.44747721\n",
      "Iteration 19, loss = 0.44025581\n",
      "Iteration 20, loss = 0.43959868\n",
      "Iteration 21, loss = 0.44220484\n",
      "Iteration 22, loss = 0.43853398\n",
      "Iteration 23, loss = 0.43717793\n",
      "Iteration 24, loss = 0.43383674\n",
      "Iteration 25, loss = 0.43493105\n",
      "Iteration 26, loss = 0.43212268\n",
      "Iteration 27, loss = 0.42877009\n",
      "Iteration 28, loss = 0.42791390\n",
      "Iteration 29, loss = 0.42938239\n",
      "Iteration 30, loss = 0.42262147\n",
      "Iteration 31, loss = 0.42631761\n",
      "Iteration 32, loss = 0.42117734\n",
      "Iteration 33, loss = 0.42514150\n",
      "Iteration 34, loss = 0.41889519\n",
      "Iteration 35, loss = 0.42348340\n",
      "Iteration 36, loss = 0.42395665\n",
      "Iteration 37, loss = 0.42195030\n",
      "Iteration 38, loss = 0.41871300\n",
      "Iteration 39, loss = 0.41984066\n",
      "Iteration 40, loss = 0.41603978\n",
      "Iteration 41, loss = 0.41403409\n",
      "Iteration 42, loss = 0.41431589\n",
      "Iteration 43, loss = 0.41385172\n",
      "Iteration 44, loss = 0.41445593\n",
      "Iteration 45, loss = 0.41401997\n",
      "Iteration 46, loss = 0.41322220\n",
      "Iteration 47, loss = 0.41508592\n",
      "Iteration 48, loss = 0.41122315\n",
      "Iteration 49, loss = 0.41158248\n",
      "Iteration 50, loss = 0.41370738\n",
      "Iteration 51, loss = 0.41196309\n",
      "Iteration 52, loss = 0.41510277\n",
      "Iteration 53, loss = 0.41013133\n",
      "Iteration 54, loss = 0.40806448\n",
      "Iteration 55, loss = 0.41115747\n",
      "Iteration 56, loss = 0.41070266\n",
      "Iteration 57, loss = 0.41009108\n",
      "Iteration 58, loss = 0.40573811\n",
      "Iteration 59, loss = 0.41164299\n",
      "Iteration 60, loss = 0.41399162\n",
      "Iteration 61, loss = 0.41035528\n",
      "Iteration 62, loss = 0.40928980\n",
      "Iteration 63, loss = 0.40837904\n",
      "Iteration 64, loss = 0.40823432\n",
      "Iteration 65, loss = 0.40826537\n"
     ]
    },
    {
     "name": "stdout",
     "output_type": "stream",
     "text": [
      "Iteration 66, loss = 0.40441015\n",
      "Iteration 67, loss = 0.40315429\n",
      "Iteration 68, loss = 0.41095744\n",
      "Iteration 69, loss = 0.41056870\n",
      "Iteration 70, loss = 0.40939924\n",
      "Iteration 71, loss = 0.41920524\n",
      "Iteration 72, loss = 0.40988511\n",
      "Iteration 73, loss = 0.41440621\n",
      "Iteration 74, loss = 0.41029218\n",
      "Iteration 75, loss = 0.40984140\n",
      "Iteration 76, loss = 0.40940578\n",
      "Iteration 77, loss = 0.40952460\n",
      "Iteration 78, loss = 0.40645260\n",
      "Training loss did not improve more than tol=0.000100 for 10 consecutive epochs. Stopping.\n",
      "Iteration 1, loss = 0.54445757\n",
      "Iteration 2, loss = 0.50643042\n",
      "Iteration 3, loss = 0.49767636\n",
      "Iteration 4, loss = 0.48686334\n",
      "Iteration 5, loss = 0.47891063\n",
      "Iteration 6, loss = 0.48310085\n",
      "Iteration 7, loss = 0.47635869\n",
      "Iteration 8, loss = 0.47422747\n",
      "Iteration 9, loss = 0.47454203\n",
      "Iteration 10, loss = 0.47152708\n",
      "Iteration 11, loss = 0.47383535\n",
      "Iteration 12, loss = 0.46960609\n",
      "Iteration 13, loss = 0.46891760\n",
      "Iteration 14, loss = 0.46854808\n",
      "Iteration 15, loss = 0.47539227\n",
      "Iteration 16, loss = 0.46194541\n",
      "Iteration 17, loss = 0.46445386\n",
      "Iteration 18, loss = 0.46143170\n",
      "Iteration 19, loss = 0.46055068\n",
      "Iteration 20, loss = 0.45763337\n",
      "Iteration 21, loss = 0.45618984\n",
      "Iteration 22, loss = 0.45848042\n",
      "Iteration 23, loss = 0.45970533\n",
      "Iteration 24, loss = 0.45950202\n",
      "Iteration 25, loss = 0.45418265\n",
      "Iteration 26, loss = 0.45223512\n",
      "Iteration 27, loss = 0.45002197\n",
      "Iteration 28, loss = 0.44903834\n",
      "Iteration 29, loss = 0.44822740\n",
      "Iteration 30, loss = 0.44923928\n",
      "Iteration 31, loss = 0.44809453\n",
      "Iteration 32, loss = 0.44431910\n",
      "Iteration 33, loss = 0.44260619\n",
      "Iteration 34, loss = 0.44420038\n",
      "Iteration 35, loss = 0.44686705\n",
      "Iteration 36, loss = 0.44226129\n",
      "Iteration 37, loss = 0.44130852\n",
      "Iteration 38, loss = 0.44501170\n",
      "Iteration 39, loss = 0.44037076\n",
      "Iteration 40, loss = 0.43648907\n",
      "Iteration 41, loss = 0.43807058\n",
      "Iteration 42, loss = 0.43898955\n",
      "Iteration 43, loss = 0.43710018\n",
      "Iteration 44, loss = 0.43547659\n",
      "Iteration 45, loss = 0.43172802\n",
      "Iteration 46, loss = 0.43304548\n",
      "Iteration 47, loss = 0.43705647\n",
      "Iteration 48, loss = 0.43535016\n",
      "Iteration 49, loss = 0.43677130\n",
      "Iteration 50, loss = 0.43538106\n",
      "Iteration 51, loss = 0.43439994\n",
      "Iteration 52, loss = 0.43316526\n",
      "Iteration 53, loss = 0.43178868\n",
      "Iteration 54, loss = 0.43323819\n",
      "Iteration 55, loss = 0.43115206\n",
      "Iteration 56, loss = 0.42888057\n",
      "Iteration 57, loss = 0.42809293\n",
      "Iteration 58, loss = 0.42922350\n",
      "Iteration 59, loss = 0.42880765\n",
      "Iteration 60, loss = 0.43311000\n",
      "Iteration 61, loss = 0.42882065\n",
      "Iteration 62, loss = 0.43155059\n",
      "Iteration 63, loss = 0.42775391\n",
      "Iteration 64, loss = 0.42967176\n",
      "Iteration 65, loss = 0.42854274\n",
      "Iteration 66, loss = 0.42790740\n",
      "Iteration 67, loss = 0.42921058\n",
      "Iteration 68, loss = 0.42307896\n",
      "Iteration 69, loss = 0.42478938\n",
      "Iteration 70, loss = 0.42892631\n",
      "Iteration 71, loss = 0.42847713\n",
      "Iteration 72, loss = 0.42250593\n",
      "Iteration 73, loss = 0.42070038\n",
      "Iteration 74, loss = 0.42362688\n",
      "Iteration 75, loss = 0.42168222\n",
      "Iteration 76, loss = 0.42175732\n",
      "Iteration 77, loss = 0.42509042\n",
      "Iteration 78, loss = 0.42485173\n",
      "Iteration 79, loss = 0.42418599\n",
      "Iteration 80, loss = 0.41874195\n",
      "Iteration 81, loss = 0.41897711\n",
      "Iteration 82, loss = 0.41879534\n",
      "Iteration 83, loss = 0.42317012\n",
      "Iteration 84, loss = 0.42215731\n",
      "Iteration 85, loss = 0.42226434\n",
      "Iteration 86, loss = 0.42158224\n",
      "Iteration 87, loss = 0.42319223\n",
      "Iteration 88, loss = 0.42024466\n",
      "Iteration 89, loss = 0.41765541\n",
      "Iteration 90, loss = 0.41767741\n",
      "Iteration 91, loss = 0.41734715\n",
      "Iteration 92, loss = 0.41590776\n",
      "Iteration 93, loss = 0.41786206\n",
      "Iteration 94, loss = 0.41598492\n",
      "Iteration 95, loss = 0.41690897\n",
      "Iteration 96, loss = 0.41836670\n",
      "Iteration 97, loss = 0.41939476\n",
      "Iteration 98, loss = 0.41610680\n",
      "Iteration 99, loss = 0.41586389\n",
      "Iteration 100, loss = 0.41519591\n",
      "Iteration 101, loss = 0.41824527\n",
      "Iteration 102, loss = 0.41700245\n",
      "Iteration 103, loss = 0.41125304\n",
      "Iteration 104, loss = 0.41035365\n",
      "Iteration 105, loss = 0.41366043\n",
      "Iteration 106, loss = 0.41618538\n",
      "Iteration 107, loss = 0.41474074\n",
      "Iteration 108, loss = 0.41919245\n",
      "Iteration 109, loss = 0.41568011\n",
      "Iteration 110, loss = 0.41374044\n",
      "Iteration 111, loss = 0.41277247\n",
      "Iteration 112, loss = 0.41151545\n",
      "Iteration 113, loss = 0.41047163\n",
      "Iteration 114, loss = 0.41408393\n",
      "Iteration 115, loss = 0.41221250\n",
      "Training loss did not improve more than tol=0.000100 for 10 consecutive epochs. Stopping.\n",
      "Iteration 1, loss = 0.54037826\n",
      "Iteration 2, loss = 0.50780661\n",
      "Iteration 3, loss = 0.49400248\n",
      "Iteration 4, loss = 0.48554880\n",
      "Iteration 5, loss = 0.48641704\n",
      "Iteration 6, loss = 0.48139881\n",
      "Iteration 7, loss = 0.47686784\n",
      "Iteration 8, loss = 0.47951936\n",
      "Iteration 9, loss = 0.47380239\n",
      "Iteration 10, loss = 0.47179920\n",
      "Iteration 11, loss = 0.47066753\n",
      "Iteration 12, loss = 0.46961653\n",
      "Iteration 13, loss = 0.46962786\n",
      "Iteration 14, loss = 0.46671318\n",
      "Iteration 15, loss = 0.46897954\n",
      "Iteration 16, loss = 0.46815712\n",
      "Iteration 17, loss = 0.46720719\n",
      "Iteration 18, loss = 0.46702392\n",
      "Iteration 19, loss = 0.46222921\n",
      "Iteration 20, loss = 0.46672182\n",
      "Iteration 21, loss = 0.46549393\n",
      "Iteration 22, loss = 0.46269657\n",
      "Iteration 23, loss = 0.45887896\n",
      "Iteration 24, loss = 0.45946551\n",
      "Iteration 25, loss = 0.46366213\n",
      "Iteration 26, loss = 0.45540349\n",
      "Iteration 27, loss = 0.45522599\n",
      "Iteration 28, loss = 0.45964134\n",
      "Iteration 29, loss = 0.46202238\n",
      "Iteration 30, loss = 0.45348355\n",
      "Iteration 31, loss = 0.45918436\n",
      "Iteration 32, loss = 0.45066815\n",
      "Iteration 33, loss = 0.44627257\n",
      "Iteration 34, loss = 0.44485211\n",
      "Iteration 35, loss = 0.44445730\n",
      "Iteration 36, loss = 0.44442208\n",
      "Iteration 37, loss = 0.44595334\n",
      "Iteration 38, loss = 0.44555738\n",
      "Iteration 39, loss = 0.44512030\n",
      "Iteration 40, loss = 0.43923966\n",
      "Iteration 41, loss = 0.44197378\n",
      "Iteration 42, loss = 0.44234064\n",
      "Iteration 43, loss = 0.44063224\n",
      "Iteration 44, loss = 0.43990121\n",
      "Iteration 45, loss = 0.43770978\n",
      "Iteration 46, loss = 0.43836674\n",
      "Iteration 47, loss = 0.44134349\n",
      "Iteration 48, loss = 0.43740666\n",
      "Iteration 49, loss = 0.44269392\n",
      "Iteration 50, loss = 0.43511938\n",
      "Iteration 51, loss = 0.43291613\n",
      "Iteration 52, loss = 0.43453148\n",
      "Iteration 53, loss = 0.43639472\n",
      "Iteration 54, loss = 0.43454604\n",
      "Iteration 55, loss = 0.43704488\n",
      "Iteration 56, loss = 0.43104217\n",
      "Iteration 57, loss = 0.43047257\n",
      "Iteration 58, loss = 0.43129513\n",
      "Iteration 59, loss = 0.43728248\n",
      "Iteration 60, loss = 0.43418786\n",
      "Iteration 61, loss = 0.43040562\n",
      "Iteration 62, loss = 0.43072428\n",
      "Iteration 63, loss = 0.43226337\n",
      "Iteration 64, loss = 0.42859380\n",
      "Iteration 65, loss = 0.43198674\n",
      "Iteration 66, loss = 0.42714567\n",
      "Iteration 67, loss = 0.42792400\n",
      "Iteration 68, loss = 0.43304381\n",
      "Iteration 69, loss = 0.43205911\n",
      "Iteration 70, loss = 0.42729225\n",
      "Iteration 71, loss = 0.43141032\n",
      "Iteration 72, loss = 0.42817732\n",
      "Iteration 73, loss = 0.42695757\n",
      "Iteration 74, loss = 0.42458495\n",
      "Iteration 75, loss = 0.42730790\n",
      "Iteration 76, loss = 0.42523395\n",
      "Iteration 77, loss = 0.42703005\n",
      "Iteration 78, loss = 0.42453726\n",
      "Iteration 79, loss = 0.42841944\n",
      "Iteration 80, loss = 0.42613566\n",
      "Iteration 81, loss = 0.42843979\n",
      "Iteration 82, loss = 0.42872868\n",
      "Iteration 83, loss = 0.42740364\n",
      "Iteration 84, loss = 0.42789986\n",
      "Iteration 85, loss = 0.42410671\n",
      "Iteration 86, loss = 0.42363263\n",
      "Iteration 87, loss = 0.42072797\n",
      "Iteration 88, loss = 0.42340429\n",
      "Iteration 89, loss = 0.42037062\n",
      "Iteration 90, loss = 0.42331306\n",
      "Iteration 91, loss = 0.42389947\n",
      "Iteration 92, loss = 0.42620068\n",
      "Iteration 93, loss = 0.42745508\n",
      "Iteration 94, loss = 0.42088782\n",
      "Iteration 95, loss = 0.42127536\n",
      "Iteration 96, loss = 0.41941745\n",
      "Iteration 97, loss = 0.41776789\n",
      "Iteration 98, loss = 0.42595699\n",
      "Iteration 99, loss = 0.42066145\n",
      "Iteration 100, loss = 0.41929099\n",
      "Iteration 101, loss = 0.41911413\n",
      "Iteration 102, loss = 0.41846030\n",
      "Iteration 103, loss = 0.41758997\n",
      "Iteration 104, loss = 0.42106939\n",
      "Iteration 105, loss = 0.41656228\n",
      "Iteration 106, loss = 0.41731929\n",
      "Iteration 107, loss = 0.41881495\n",
      "Iteration 108, loss = 0.41805964\n",
      "Iteration 109, loss = 0.41755245\n",
      "Iteration 110, loss = 0.42141838\n",
      "Iteration 111, loss = 0.41744531\n",
      "Iteration 112, loss = 0.41730930\n",
      "Iteration 113, loss = 0.42173142\n",
      "Iteration 114, loss = 0.42162707\n",
      "Iteration 115, loss = 0.41939267\n",
      "Iteration 116, loss = 0.41985079\n",
      "Training loss did not improve more than tol=0.000100 for 10 consecutive epochs. Stopping.\n",
      "Cross validation Accuracy scores for each fold =  [0.77046918 0.77450529 0.79843534 0.79383341]\n",
      "Mean CV Accuracy =  0.784310806582923\n"
     ]
    }
   ],
   "source": [
    "from sklearn.model_selection import KFold, cross_val_score\n",
    "from sklearn.linear_model import LogisticRegression\n",
    "\n",
    "#Initiate K-Fold with 4 Folds\n",
    "kf = KFold(n_splits=4, shuffle=True, random_state=10)\n",
    "#Initiate logistic regression model\n",
    "logistic_model = LogisticRegression()\n",
    "#Obtain CV results with \n",
    "cv_results = cross_val_score(nnmodel, X_train, y_train, cv=kf, scoring='accuracy')\n",
    "print(\"Cross validation Accuracy scores for each fold = \", cv_results)\n",
    "print(\"Mean CV Accuracy = \", np.mean(cv_results))"
   ]
  },
  {
   "cell_type": "code",
   "execution_count": 94,
   "metadata": {},
   "outputs": [],
   "source": [
    "y_pred = nnmodel.predict(X_test)"
   ]
  },
  {
   "cell_type": "code",
   "execution_count": 89,
   "metadata": {},
   "outputs": [
    {
     "data": {
      "text/plain": [
       "HomePlanet      0\n",
       "CryoSleep       0\n",
       "Destination     0\n",
       "Age             0\n",
       "VIP             0\n",
       "RoomService     0\n",
       "FoodCourt       0\n",
       "ShoppingMall    0\n",
       "Spa             0\n",
       "VRDeck          0\n",
       "dtype: int64"
      ]
     },
     "execution_count": 89,
     "metadata": {},
     "output_type": "execute_result"
    }
   ],
   "source": [
    "X_test.isna().sum()"
   ]
  },
  {
   "cell_type": "code",
   "execution_count": 95,
   "metadata": {},
   "outputs": [],
   "source": [
    "result = pd.DataFrame(y_pred).astype(int)\n",
    "\n",
    "result.columns = ['Transported']"
   ]
  },
  {
   "cell_type": "code",
   "execution_count": 96,
   "metadata": {},
   "outputs": [],
   "source": [
    "result['Transported'].replace([0,1],[False,True],inplace=True)"
   ]
  },
  {
   "cell_type": "code",
   "execution_count": 97,
   "metadata": {},
   "outputs": [],
   "source": [
    "submit = pd.concat([test['PassengerId'], result],axis=1)"
   ]
  },
  {
   "cell_type": "code",
   "execution_count": 98,
   "metadata": {},
   "outputs": [],
   "source": [
    "submit.to_csv('submit.csv', index=False)"
   ]
  },
  {
   "cell_type": "code",
   "execution_count": null,
   "metadata": {},
   "outputs": [],
   "source": []
  }
 ],
 "metadata": {
  "kernelspec": {
   "display_name": "Python 3",
   "language": "python",
   "name": "python3"
  },
  "language_info": {
   "codemirror_mode": {
    "name": "ipython",
    "version": 3
   },
   "file_extension": ".py",
   "mimetype": "text/x-python",
   "name": "python",
   "nbconvert_exporter": "python",
   "pygments_lexer": "ipython3",
   "version": "3.8.3"
  }
 },
 "nbformat": 4,
 "nbformat_minor": 4
}
